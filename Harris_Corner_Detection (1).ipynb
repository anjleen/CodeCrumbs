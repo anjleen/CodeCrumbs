{
  "cells": [
    {
      "cell_type": "code",
      "execution_count": null,
      "metadata": {
        "colab": {
          "background_save": true
        },
        "id": "gXEpx9iAiHc5"
      },
      "outputs": [],
      "source": [
        "# Python program to illustrate\n",
        "# corner detection with\n",
        "# Harris Corner Detection Method\n",
        "\n",
        "# organizing imports\n",
        "import cv2\n",
        "import numpy as np\n",
        "\n",
        "# path to input image specified and\n",
        "# image is loaded with imread command\n",
        "image = cv2.imread('buildings.jpg')\n",
        "\n",
        "# convert the input image into\n",
        "# grayscale color space\n",
        "operatedImage = cv2.cvtColor(image, cv2.COLOR_BGR2GRAY)\n",
        "\n",
        "# modify the data type\n",
        "# setting to 32-bit floating point\n",
        "operatedImage = np.float32(operatedImage)\n",
        "\n",
        "# apply the cv2.cornerHarris method\n",
        "# to detect the corners with appropriate\n",
        "# values as input parameters\n",
        "dest = cv2.cornerHarris(operatedImage, 2, 5, 0.07)\n",
        "\n",
        "# Results are marked through the dilated corners\n",
        "dest = cv2.dilate(dest, None)\n",
        "\n",
        "# Reverting back to the original image,\n",
        "# with optimal threshold value\n",
        "image[dest > 0.01 * dest.max()]=[0, 0, 255]\n",
        "\n",
        "# the window showing output image with corners\n",
        "from google.colab.patches import cv2_imshow\n",
        "cv2_imshow(image)\n",
        "\n",
        "# De-allocate any associated memory usage\n",
        "if cv2.waitKey(0) & 0xff == 27:\n",
        "\tcv2.destroyAllWindows()\n"
      ]
    }
  ],
  "metadata": {
    "colab": {
      "provenance": []
    },
    "kernelspec": {
      "display_name": "Python 3",
      "name": "python3"
    },
    "language_info": {
      "name": "python"
    }
  },
  "nbformat": 4,
  "nbformat_minor": 0
}